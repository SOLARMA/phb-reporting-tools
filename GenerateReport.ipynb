{
 "cells": [
  {
   "cell_type": "code",
   "execution_count": null,
   "metadata": {},
   "outputs": [],
   "source": [
    "import matplotlib.pyplot as plt\n",
    "import pandas as pd"
   ]
  },
  {
   "cell_type": "code",
   "execution_count": null,
   "metadata": {},
   "outputs": [],
   "source": [
    "app = pd.read_csv('./contrib/secomea/Appliances_snippet.csv')\n",
    "app.tail(10)"
   ]
  },
  {
   "cell_type": "code",
   "execution_count": null,
   "metadata": {},
   "outputs": [],
   "source": [
    "lic = pd.read_csv('./contrib/secomea/Licenses_snippet.csv')\n",
    "lic.tail(10)"
   ]
  },
  {
   "cell_type": "code",
   "execution_count": null,
   "metadata": {},
   "outputs": [],
   "source": [
    "stylesheet=\"contrib/css/typography.css\""
   ]
  },
  {
   "cell_type": "markdown",
   "metadata": {},
   "source": [
    "## Utilizzo delle licenze GateManager"
   ]
  },
  {
   "cell_type": "code",
   "execution_count": null,
   "metadata": {
    "scrolled": true
   },
   "outputs": [],
   "source": [
    "gateMan = lic[lic['Product'] == 'Client']\n",
    "totGate = gateMan['Licenses'].values[0]\n",
    "usedGate = gateMan['Used'].values[0]\n",
    "\n",
    "usedAROL = app[app['Domain'] == 'TREE']\n",
    "usedFT = app[app['Domain'] == 'COW']\n",
    "usedOthers = app[~ ( (app['Domain'] == 'TREE') | (app['Domain'] == 'COW') )]\n",
    "\n",
    "nAROL = len(usedAROL)\n",
    "nFT = len(usedFT)\n",
    "nOthers = len(usedOthers)\n",
    "\n",
    "fig, ax = plt.subplots(1,2, figsize=(20,10))\n",
    "\n",
    "def func(pct, total):\n",
    "    # ricava il numero assoluto\n",
    "    num = pct/100*total\n",
    "    return '{:1.1f}%\\n({:1.0f})'.format(pct, num)\n",
    "\n",
    "# Torta utilizzo licenze\n",
    "labels = ['Utilizzate', 'Libere']\n",
    "percs = [usedGate*100/totGate, 100-usedGate*100/totGate]\n",
    "explode = (0.1, 0.1)\n",
    "\n",
    "ax[0].pie(percs, explode=explode,labels=labels, autopct=lambda x: func(x, totGate),\n",
    "          shadow = True, textprops=dict(color='k', weight='bold', fontsize=20),\n",
    "          colors = ['C3', 'C2'])\n",
    "ax[0].legend(fontsize=15)\n",
    "ax[0].set_title('Utilizzo licenze\\n(Tot: {})'.format(totGate), size=25)\n",
    "\n",
    "labels = 'TREE', 'COW', 'Altri'\n",
    "percs = [nAROL*100/usedGate, nFT*100/usedGate, nOthers*100/usedGate]\n",
    "explode = (0.1, 0.1, 0.1)  \n",
    "\n",
    "ax[1].pie(percs, explode=explode,labels=labels, autopct=lambda x: func(x, usedGate),\n",
    "           shadow = True, textprops=dict(color='k', weight='bold', fontsize=20),\n",
    "          colors = ['C1', 'C2', 'C7'])\n",
    "ax[1].legend(fontsize=15)\n",
    "ax[1].set_title('Dettaglio licenze utilizzate\\n(Tot: {})'.format(usedGate), size=25)\n",
    "plt.show()\n",
    "fig.savefig(\"Utilizzo_Licenze.pdf\", dpi = 150, bbox_inches='tight')"
   ]
  },
  {
   "cell_type": "markdown",
   "metadata": {},
   "source": [
    "## Stampa la lista degli utenti"
   ]
  },
  {
   "cell_type": "code",
   "execution_count": null,
   "metadata": {},
   "outputs": [],
   "source": [
    "# https://weasyprint.readthedocs.io/en/stable/install.html#windows\n",
    "from weasyprint import HTML\n",
    "def df2pdf(df, pdfName):\n",
    "    df = df.reset_index(drop= True)\n",
    "    df.index += 1\n",
    "    html_out = df.to_html()\n",
    "    HTML(string=html_out).write_pdf(pdfName, stylesheets=[stylesheet])\n",
    "\n",
    "    \n",
    "# Licenze Arol\n",
    "df2pdf(usedAROL, 'TREE.pdf')\n",
    "# Licenze FT\n",
    "df2pdf(usedFT, 'COW.pdf')\n",
    "# Alre licenze\n",
    "df2pdf(usedOthers, 'Altri.pdf')"
   ]
  }
 ],
 "metadata": {
  "kernelspec": {
   "display_name": "Python 3",
   "language": "python",
   "name": "python3"
  },
  "language_info": {
   "codemirror_mode": {
    "name": "ipython",
    "version": 3
   },
   "file_extension": ".py",
   "mimetype": "text/x-python",
   "name": "python",
   "nbconvert_exporter": "python",
   "pygments_lexer": "ipython3",
   "version": "3.7.3"
  }
 },
 "nbformat": 4,
 "nbformat_minor": 2
}
